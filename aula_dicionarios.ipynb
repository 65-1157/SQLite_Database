{
 "cells": [
  {
   "cell_type": "markdown",
   "metadata": {},
   "source": [
    "___"
   ]
  },
  {
   "cell_type": "markdown",
   "metadata": {},
   "source": [
    "### Aprendendo a trabalhar com dicionários em Python\n",
    "\n",
    "Material complementar para dicionarios python: http://excript.com/python/funcoes-dicionarios.html"
   ]
  },
  {
   "cell_type": "code",
   "execution_count": 111,
   "metadata": {},
   "outputs": [
    {
     "name": "stdout",
     "output_type": "stream",
     "text": [
      "\n",
      " OrderedDict([('seq', '0'), ('id', '11001901101.0'), ('idade', '53'), ('sexo', 'homem'), ('anos_estudo', '5.0'), ('cor/raca', 'Parda'), ('salario', '63600.0'), ('estado_civil', '1.0'), ('regiao', 'norte')])\n",
      "\n",
      " OrderedDict([('seq', '1'), ('id', '11001901102.0'), ('idade', '49'), ('sexo', 'mulher'), ('anos_estudo', '8.0'), ('cor/raca', 'Amarela'), ('salario', ''), ('estado_civil', '1.0'), ('regiao', 'norte')])\n",
      "\n",
      " OrderedDict([('seq', '2'), ('id', '11001901103.0'), ('idade', '22'), ('sexo', 'mulher'), ('anos_estudo', '11.0'), ('cor/raca', 'Indigena'), ('salario', '4352.400390625'), ('estado_civil', '0.0'), ('regiao', 'nordeste')])\n",
      "\n",
      " OrderedDict([('seq', '3'), ('id', '11001903101.0'), ('idade', '55'), ('sexo', 'homem'), ('anos_estudo', '15.0'), ('cor/raca', 'Amarela'), ('salario', '96600.0'), ('estado_civil', '1.0'), ('regiao', 'norte')])\n",
      "\n",
      " OrderedDict([('seq', '4'), ('id', '11001903102.0'), ('idade', '56'), ('sexo', 'mulher'), ('anos_estudo', '15.0'), ('cor/raca', 'Amarela'), ('salario', '157800.0'), ('estado_civil', '1.0'), ('regiao', 'norte')])\n",
      "\n",
      " OrderedDict([('seq', '5'), ('id', '11001903103.0'), ('idade', '30'), ('sexo', 'mulher'), ('anos_estudo', '15.0'), ('cor/raca', 'Amarela'), ('salario', '88550.0'), ('estado_civil', '0.0'), ('regiao', 'nordeste')])\n",
      "\n",
      " OrderedDict([('seq', '6'), ('id', '11001904101.0'), ('idade', '52'), ('sexo', 'mulher'), ('anos_estudo', '5.0'), ('cor/raca', 'Branca'), ('salario', '6734.400390625'), ('estado_civil', '0.0'), ('regiao', 'norte')])\n",
      "\n",
      " OrderedDict([('seq', '7'), ('id', '11001904104.0'), ('idade', '29'), ('sexo', 'homem'), ('anos_estudo', '5.0'), ('cor/raca', 'Parda'), ('salario', '14875.20068359375'), ('estado_civil', '0.0'), ('regiao', 'norte')])\n",
      "\n",
      " OrderedDict([('seq', '8'), ('id', '11001904105.0'), ('idade', '29'), ('sexo', 'mulher'), ('anos_estudo', '11.0'), ('cor/raca', 'Parda'), ('salario', '6734.400390625'), ('estado_civil', '0.0'), ('regiao', 'norte')])\n",
      "\n",
      " OrderedDict([('seq', '9'), ('id', '11001905101.0'), ('idade', '46'), ('sexo', 'mulher'), ('anos_estudo', '15.0'), ('cor/raca', 'Branca'), ('salario', '54300.0'), ('estado_civil', '1.0'), ('regiao', 'norte')])\n"
     ]
    }
   ],
   "source": [
    "import csv\n",
    "input_file = csv.DictReader(open('demografia.csv', 'r') )\n",
    "# row = linha\n",
    "contador = 0\n",
    "for row in input_file:\n",
    "    contador += 1\n",
    "    if contador <= 10:\n",
    "        print('\\n', row)"
   ]
  },
  {
   "cell_type": "code",
   "execution_count": 42,
   "metadata": {},
   "outputs": [
    {
     "data": {
      "text/plain": [
       "OrderedDict([('seq', '66469'),\n",
       "             ('id', '53117018102.0'),\n",
       "             ('idade', '37'),\n",
       "             ('sexo', 'homem'),\n",
       "             ('anos_estudo', '5.0'),\n",
       "             ('cor/raca', 'Preta'),\n",
       "             ('salario', '460.3500061035156'),\n",
       "             ('estado_civil', '1.0'),\n",
       "             ('regiao', 'centro-oeste')])"
      ]
     },
     "execution_count": 42,
     "metadata": {},
     "output_type": "execute_result"
    }
   ],
   "source": [
    "row"
   ]
  },
  {
   "cell_type": "code",
   "execution_count": 43,
   "metadata": {},
   "outputs": [
    {
     "data": {
      "text/plain": [
       "'37'"
      ]
     },
     "execution_count": 43,
     "metadata": {},
     "output_type": "execute_result"
    }
   ],
   "source": [
    "row['idade']"
   ]
  },
  {
   "cell_type": "code",
   "execution_count": 44,
   "metadata": {},
   "outputs": [
    {
     "data": {
      "text/plain": [
       "'centro-oeste'"
      ]
     },
     "execution_count": 44,
     "metadata": {},
     "output_type": "execute_result"
    }
   ],
   "source": [
    "row['regiao']"
   ]
  },
  {
   "cell_type": "markdown",
   "metadata": {},
   "source": [
    "Criando a tabela como um dicionario"
   ]
  },
  {
   "cell_type": "code",
   "execution_count": 45,
   "metadata": {},
   "outputs": [
    {
     "data": {
      "text/plain": [
       "OrderedDict([('seq', '66469'),\n",
       "             ('id', '53117018102.0'),\n",
       "             ('idade', '37'),\n",
       "             ('sexo', 'homem'),\n",
       "             ('anos_estudo', '5.0'),\n",
       "             ('cor/raca', 'Preta'),\n",
       "             ('salario', '460.3500061035156'),\n",
       "             ('estado_civil', '1.0'),\n",
       "             ('regiao', 'centro-oeste')])"
      ]
     },
     "execution_count": 45,
     "metadata": {},
     "output_type": "execute_result"
    }
   ],
   "source": [
    "row"
   ]
  },
  {
   "cell_type": "code",
   "execution_count": 112,
   "metadata": {},
   "outputs": [],
   "source": [
    "\n",
    "dict_table = {}\n",
    "\n",
    "with open('demografia.csv', 'r') as data_csv:\n",
    "    data = csv.reader(data_csv)\n",
    "  \n",
    "    header = next(data)\n",
    "    \n",
    "    for row in data:    \n",
    "        dict_table[row[1]] = {'idade':row[2], 'sexo':row[3], 'anos_estudo':row[4], 'salario': row[6]}\n",
    "        #dict_table[row[1]] = {'XXX':row[2], 'sexo':row[3], 'anos_estudo':row[4], 'salario': row[6]}\n",
    "        contador=contador+1\n",
    "          "
   ]
  },
  {
   "cell_type": "code",
   "execution_count": 114,
   "metadata": {
    "scrolled": true
   },
   "outputs": [
    {
     "name": "stdout",
     "output_type": "stream",
     "text": [
      "id {'idade': 'idade', 'sexo': 'sexo', 'anos_estudo': 'anos_estudo', 'salario': 'salario'}\n",
      "11001901101.0 {'idade': '53', 'sexo': 'homem', 'anos_estudo': '5.0', 'salario': '63600.0'}\n",
      "11001901102.0 {'idade': '49', 'sexo': 'mulher', 'anos_estudo': '8.0', 'salario': ''}\n",
      "11001901103.0 {'idade': '22', 'sexo': 'mulher', 'anos_estudo': '11.0', 'salario': '4352.400390625'}\n",
      "11001903101.0 {'idade': '55', 'sexo': 'homem', 'anos_estudo': '15.0', 'salario': '96600.0'}\n",
      "11001903102.0 {'idade': '56', 'sexo': 'mulher', 'anos_estudo': '15.0', 'salario': '157800.0'}\n",
      "11001903103.0 {'idade': '30', 'sexo': 'mulher', 'anos_estudo': '15.0', 'salario': '88550.0'}\n",
      "11001904101.0 {'idade': '52', 'sexo': 'mulher', 'anos_estudo': '5.0', 'salario': '6734.400390625'}\n",
      "11001904104.0 {'idade': '29', 'sexo': 'homem', 'anos_estudo': '5.0', 'salario': '14875.20068359375'}\n",
      "11001904105.0 {'idade': '29', 'sexo': 'mulher', 'anos_estudo': '11.0', 'salario': '6734.400390625'}\n"
     ]
    }
   ],
   "source": [
    "contador = 0\n",
    "for row in dict_table:\n",
    "    print(row,dict_table[row])\n",
    "    contador = contador + 1\n",
    "\n",
    "    if contador == 10:\n",
    "        break\n"
   ]
  },
  {
   "cell_type": "code",
   "execution_count": 115,
   "metadata": {},
   "outputs": [
    {
     "data": {
      "text/plain": [
       "True"
      ]
     },
     "execution_count": 115,
     "metadata": {},
     "output_type": "execute_result"
    }
   ],
   "source": [
    "'11027211101.0' in dict_table"
   ]
  },
  {
   "cell_type": "code",
   "execution_count": 116,
   "metadata": {},
   "outputs": [
    {
     "data": {
      "text/plain": [
       "{'idade': '53', 'sexo': 'homem', 'anos_estudo': '5.0', 'salario': '7128.0'}"
      ]
     },
     "execution_count": 116,
     "metadata": {},
     "output_type": "execute_result"
    }
   ],
   "source": [
    "dict_table['11027211101.0']"
   ]
  },
  {
   "cell_type": "code",
   "execution_count": 117,
   "metadata": {},
   "outputs": [
    {
     "data": {
      "text/plain": [
       "'5.0'"
      ]
     },
     "execution_count": 117,
     "metadata": {},
     "output_type": "execute_result"
    }
   ],
   "source": [
    "dict_table['11027211101.0']['anos_estudo']"
   ]
  },
  {
   "cell_type": "code",
   "execution_count": 118,
   "metadata": {},
   "outputs": [
    {
     "data": {
      "text/plain": [
       "False"
      ]
     },
     "execution_count": 118,
     "metadata": {},
     "output_type": "execute_result"
    }
   ],
   "source": [
    "dict_table['11027211101.0']['anos_estudo'] == '6.0'"
   ]
  },
  {
   "cell_type": "code",
   "execution_count": 119,
   "metadata": {},
   "outputs": [],
   "source": [
    "dict_table['11027211101.0']['anos_estudo'] = '5.0'"
   ]
  },
  {
   "cell_type": "code",
   "execution_count": 120,
   "metadata": {},
   "outputs": [
    {
     "data": {
      "text/plain": [
       "True"
      ]
     },
     "execution_count": 120,
     "metadata": {},
     "output_type": "execute_result"
    }
   ],
   "source": [
    "dict_table['11027211101.0']['anos_estudo'] == '5.0'"
   ]
  },
  {
   "cell_type": "code",
   "execution_count": 121,
   "metadata": {},
   "outputs": [
    {
     "data": {
      "text/plain": [
       "'5.0'"
      ]
     },
     "execution_count": 121,
     "metadata": {},
     "output_type": "execute_result"
    }
   ],
   "source": [
    "dict_table['11027211101.0']['anos_estudo']"
   ]
  },
  {
   "cell_type": "code",
   "execution_count": 122,
   "metadata": {},
   "outputs": [
    {
     "data": {
      "text/plain": [
       "False"
      ]
     },
     "execution_count": 122,
     "metadata": {},
     "output_type": "execute_result"
    }
   ],
   "source": [
    "dict_table['11027211101.0']['anos_estudo'] == '6.0'"
   ]
  },
  {
   "cell_type": "code",
   "execution_count": 123,
   "metadata": {},
   "outputs": [
    {
     "data": {
      "text/plain": [
       "{'idade': '53', 'sexo': 'homem', 'anos_estudo': '5.0', 'salario': '7128.0'}"
      ]
     },
     "execution_count": 123,
     "metadata": {},
     "output_type": "execute_result"
    }
   ],
   "source": [
    "dict_table['11027211101.0']"
   ]
  },
  {
   "cell_type": "code",
   "execution_count": 124,
   "metadata": {},
   "outputs": [],
   "source": [
    "del dict_table['11027211101.0']"
   ]
  },
  {
   "cell_type": "code",
   "execution_count": 125,
   "metadata": {},
   "outputs": [
    {
     "ename": "KeyError",
     "evalue": "'11027211101.0'",
     "output_type": "error",
     "traceback": [
      "\u001b[1;31m---------------------------------------------------------------------------\u001b[0m",
      "\u001b[1;31mKeyError\u001b[0m                                  Traceback (most recent call last)",
      "\u001b[1;32m<ipython-input-125-7d8af068c742>\u001b[0m in \u001b[0;36m<module>\u001b[1;34m()\u001b[0m\n\u001b[1;32m----> 1\u001b[1;33m \u001b[0mdict_table\u001b[0m\u001b[1;33m[\u001b[0m\u001b[1;34m'11027211101.0'\u001b[0m\u001b[1;33m]\u001b[0m\u001b[1;33m\u001b[0m\u001b[0m\n\u001b[0m",
      "\u001b[1;31mKeyError\u001b[0m: '11027211101.0'"
     ]
    }
   ],
   "source": [
    "dict_table['11027211101.0']"
   ]
  },
  {
   "cell_type": "code",
   "execution_count": 126,
   "metadata": {},
   "outputs": [],
   "source": [
    "def create_text_histogram(txt):\n",
    "    dictionary = {}\n",
    "    i=0\n",
    "    for x in set(txt): # função set\n",
    "        dictionary[x] = txt.count(x)\n",
    "    return dictionary"
   ]
  },
  {
   "cell_type": "code",
   "execution_count": 127,
   "metadata": {},
   "outputs": [
    {
     "data": {
      "text/plain": [
       "{'c': 1,\n",
       " 'g': 1,\n",
       " 'p': 2,\n",
       " 'f': 1,\n",
       " 'r': 4,\n",
       " 's': 3,\n",
       " 'o': 2,\n",
       " 'm': 2,\n",
       " 't': 3,\n",
       " 'e': 4,\n",
       " 'd': 2,\n",
       " 'i': 2,\n",
       " 'h': 1,\n",
       " 'a': 6,\n",
       " ' ': 5}"
      ]
     },
     "execution_count": 127,
     "metadata": {},
     "output_type": "execute_result"
    }
   ],
   "source": [
    "create_text_histogram(txt='teste de frase comprida para histograma')"
   ]
  },
  {
   "cell_type": "code",
   "execution_count": 128,
   "metadata": {},
   "outputs": [],
   "source": [
    "contagem_idades = {}\n",
    "\n",
    "with open('demografia.csv', 'r') as data_csv:\n",
    "    data = csv.reader(data_csv)\n",
    "    header = next(data, None) # equivalente a i>0\n",
    "    \n",
    "    idades = []\n",
    "    for row in data:\n",
    "        idades.append(row[2])\n",
    "        \n",
    "    "
   ]
  },
  {
   "cell_type": "code",
   "execution_count": 129,
   "metadata": {
    "scrolled": true
   },
   "outputs": [
    {
     "data": {
      "text/plain": [
       "['53',\n",
       " '49',\n",
       " '22',\n",
       " '55',\n",
       " '56',\n",
       " '30',\n",
       " '52',\n",
       " '29',\n",
       " '29',\n",
       " '46',\n",
       " '52',\n",
       " '22',\n",
       " '26',\n",
       " '20',\n",
       " '30',\n",
       " '48',\n",
       " '30',\n",
       " '27',\n",
       " '33',\n",
       " '30',\n",
       " '34',\n",
       " '28',\n",
       " '25',\n",
       " '26',\n",
       " '32',\n",
       " '36',\n",
       " '40',\n",
       " '38',\n",
       " '27',\n",
       " '25',\n",
       " '42',\n",
       " '43',\n",
       " '25',\n",
       " '22',\n",
       " '31',\n",
       " '60',\n",
       " '24',\n",
       " '22',\n",
       " '28',\n",
       " '30',\n",
       " '55',\n",
       " '32',\n",
       " '35',\n",
       " '31',\n",
       " '40',\n",
       " '58',\n",
       " '48',\n",
       " '27',\n",
       " '24',\n",
       " '31',\n",
       " '30',\n",
       " '41',\n",
       " '47',\n",
       " '32',\n",
       " '37',\n",
       " '29',\n",
       " '58',\n",
       " '34',\n",
       " '35',\n",
       " '49',\n",
       " '46',\n",
       " '39',\n",
       " '26',\n",
       " '23',\n",
       " '27',\n",
       " '45',\n",
       " '41',\n",
       " '27',\n",
       " '26',\n",
       " '28',\n",
       " '40',\n",
       " '41',\n",
       " '27',\n",
       " '26',\n",
       " '23',\n",
       " '22',\n",
       " '21',\n",
       " '23',\n",
       " '25',\n",
       " '43',\n",
       " '46',\n",
       " '21',\n",
       " '27',\n",
       " '52',\n",
       " '50',\n",
       " '26',\n",
       " '23',\n",
       " '23',\n",
       " '35',\n",
       " '34',\n",
       " '52',\n",
       " '49',\n",
       " '22',\n",
       " '27',\n",
       " '22',\n",
       " '55',\n",
       " '48',\n",
       " '21',\n",
       " '40',\n",
       " '26',\n",
       " '45',\n",
       " '33',\n",
       " '35',\n",
       " '50',\n",
       " '51',\n",
       " '29',\n",
       " '29',\n",
       " '25',\n",
       " '23',\n",
       " '27',\n",
       " '38',\n",
       " '29',\n",
       " '28',\n",
       " '56',\n",
       " '29',\n",
       " '50',\n",
       " '28',\n",
       " '27',\n",
       " '24',\n",
       " '20',\n",
       " '44',\n",
       " '24',\n",
       " '22',\n",
       " '20',\n",
       " '57',\n",
       " '47',\n",
       " '51',\n",
       " '45',\n",
       " '29',\n",
       " '27',\n",
       " '57',\n",
       " '52',\n",
       " '29',\n",
       " '26',\n",
       " '24',\n",
       " '27',\n",
       " '34',\n",
       " '31',\n",
       " '40',\n",
       " '21',\n",
       " '20',\n",
       " '50',\n",
       " '24',\n",
       " '41',\n",
       " '38',\n",
       " '32',\n",
       " '31',\n",
       " '48',\n",
       " '32',\n",
       " '30',\n",
       " '21',\n",
       " '35',\n",
       " '33',\n",
       " '23',\n",
       " '60',\n",
       " '43',\n",
       " '51',\n",
       " '26',\n",
       " '20',\n",
       " '58',\n",
       " '57',\n",
       " '40',\n",
       " '39',\n",
       " '35',\n",
       " '44',\n",
       " '40',\n",
       " '20',\n",
       " '29',\n",
       " '41',\n",
       " '36',\n",
       " '38',\n",
       " '25',\n",
       " '30',\n",
       " '41',\n",
       " '35',\n",
       " '21',\n",
       " '32',\n",
       " '52',\n",
       " '31',\n",
       " '59',\n",
       " '42',\n",
       " '48',\n",
       " '31',\n",
       " '46',\n",
       " '48',\n",
       " '57',\n",
       " '27',\n",
       " '22',\n",
       " '60',\n",
       " '30',\n",
       " '44',\n",
       " '28',\n",
       " '25',\n",
       " '36',\n",
       " '21',\n",
       " '44',\n",
       " '25',\n",
       " '57',\n",
       " '26',\n",
       " '20',\n",
       " '47',\n",
       " '32',\n",
       " '26',\n",
       " '28',\n",
       " '24',\n",
       " '45',\n",
       " '47',\n",
       " '43',\n",
       " '37',\n",
       " '35',\n",
       " '39',\n",
       " '60',\n",
       " '38',\n",
       " '40',\n",
       " '38',\n",
       " '60',\n",
       " '57',\n",
       " '32',\n",
       " '37',\n",
       " '41',\n",
       " '37',\n",
       " '25',\n",
       " '43',\n",
       " '47',\n",
       " '46',\n",
       " '45',\n",
       " '42',\n",
       " '44',\n",
       " '24',\n",
       " '43',\n",
       " '47',\n",
       " '39',\n",
       " '31',\n",
       " '42',\n",
       " '40',\n",
       " '58',\n",
       " '49',\n",
       " '41',\n",
       " '41',\n",
       " '43',\n",
       " '28',\n",
       " '27',\n",
       " '49',\n",
       " '46',\n",
       " '54',\n",
       " '23',\n",
       " '60',\n",
       " '25',\n",
       " '22',\n",
       " '26',\n",
       " '44',\n",
       " '26',\n",
       " '26',\n",
       " '26',\n",
       " '43',\n",
       " '23',\n",
       " '42',\n",
       " '31',\n",
       " '32',\n",
       " '40',\n",
       " '24',\n",
       " '43',\n",
       " '48',\n",
       " '22',\n",
       " '52',\n",
       " '23',\n",
       " '46',\n",
       " '52',\n",
       " '31',\n",
       " '29',\n",
       " '21',\n",
       " '27',\n",
       " '24',\n",
       " '36',\n",
       " '23',\n",
       " '27',\n",
       " '22',\n",
       " '47',\n",
       " '40',\n",
       " '28',\n",
       " '26',\n",
       " '33',\n",
       " '30',\n",
       " '40',\n",
       " '38',\n",
       " '33',\n",
       " '32',\n",
       " '46',\n",
       " '45',\n",
       " '20',\n",
       " '58',\n",
       " '30',\n",
       " '46',\n",
       " '31',\n",
       " '45',\n",
       " '43',\n",
       " '27',\n",
       " '27',\n",
       " '46',\n",
       " '46',\n",
       " '34',\n",
       " '40',\n",
       " '39',\n",
       " '30',\n",
       " '42',\n",
       " '35',\n",
       " '25',\n",
       " '32',\n",
       " '26',\n",
       " '32',\n",
       " '21',\n",
       " '29',\n",
       " '29',\n",
       " '40',\n",
       " '23',\n",
       " '41',\n",
       " '34',\n",
       " '42',\n",
       " '28',\n",
       " '44',\n",
       " '41',\n",
       " '47',\n",
       " '42',\n",
       " '50',\n",
       " '41',\n",
       " '29',\n",
       " '33',\n",
       " '30',\n",
       " '33',\n",
       " '30',\n",
       " '58',\n",
       " '25',\n",
       " '22',\n",
       " '49',\n",
       " '50',\n",
       " '44',\n",
       " '45',\n",
       " '28',\n",
       " '26',\n",
       " '26',\n",
       " '37',\n",
       " '35',\n",
       " '34',\n",
       " '42',\n",
       " '40',\n",
       " '22',\n",
       " '39',\n",
       " '21',\n",
       " '37',\n",
       " '43',\n",
       " '35',\n",
       " '43',\n",
       " '33',\n",
       " '32',\n",
       " '40',\n",
       " '29',\n",
       " '30',\n",
       " '42',\n",
       " '35',\n",
       " '28',\n",
       " '24',\n",
       " '41',\n",
       " '46',\n",
       " '44',\n",
       " '48',\n",
       " '42',\n",
       " '49',\n",
       " '42',\n",
       " '24',\n",
       " '42',\n",
       " '39',\n",
       " '56',\n",
       " '60',\n",
       " '51',\n",
       " '58',\n",
       " '54',\n",
       " '28',\n",
       " '21',\n",
       " '20',\n",
       " '40',\n",
       " '31',\n",
       " '48',\n",
       " '37',\n",
       " '52',\n",
       " '31',\n",
       " '30',\n",
       " '53',\n",
       " '45',\n",
       " '24',\n",
       " '28',\n",
       " '30',\n",
       " '27',\n",
       " '36',\n",
       " '25',\n",
       " '23',\n",
       " '34',\n",
       " '42',\n",
       " '42',\n",
       " '59',\n",
       " '51',\n",
       " '43',\n",
       " '20',\n",
       " '46',\n",
       " '36',\n",
       " '47',\n",
       " '37',\n",
       " '20',\n",
       " '23',\n",
       " '22',\n",
       " '30',\n",
       " '22',\n",
       " '31',\n",
       " '45',\n",
       " '60',\n",
       " '34',\n",
       " '25',\n",
       " '43',\n",
       " '20',\n",
       " '41',\n",
       " '39',\n",
       " '40',\n",
       " '32',\n",
       " '27',\n",
       " '41',\n",
       " '43',\n",
       " '59',\n",
       " '60',\n",
       " '23',\n",
       " '29',\n",
       " '39',\n",
       " '30',\n",
       " '31',\n",
       " '34',\n",
       " '38',\n",
       " '48',\n",
       " '51',\n",
       " '23',\n",
       " '49',\n",
       " '40',\n",
       " '41',\n",
       " '28',\n",
       " '25',\n",
       " '28',\n",
       " '32',\n",
       " '51',\n",
       " '22',\n",
       " '23',\n",
       " '24',\n",
       " '27',\n",
       " '20',\n",
       " '23',\n",
       " '25',\n",
       " '45',\n",
       " '23',\n",
       " '49',\n",
       " '49',\n",
       " '20',\n",
       " '44',\n",
       " '36',\n",
       " '60',\n",
       " '27',\n",
       " '27',\n",
       " '26',\n",
       " '26',\n",
       " '22',\n",
       " '24',\n",
       " '35',\n",
       " '35',\n",
       " '27',\n",
       " '23',\n",
       " '24',\n",
       " '33',\n",
       " '31',\n",
       " '38',\n",
       " '34',\n",
       " '21',\n",
       " '32',\n",
       " '20',\n",
       " '47',\n",
       " '28',\n",
       " '27',\n",
       " '32',\n",
       " '24',\n",
       " '44',\n",
       " '38',\n",
       " '32',\n",
       " '28',\n",
       " '40',\n",
       " '37',\n",
       " '28',\n",
       " '23',\n",
       " '24',\n",
       " '52',\n",
       " '39',\n",
       " '51',\n",
       " '53',\n",
       " '34',\n",
       " '32',\n",
       " '34',\n",
       " '33',\n",
       " '33',\n",
       " '58',\n",
       " '56',\n",
       " '36',\n",
       " '31',\n",
       " '21',\n",
       " '52',\n",
       " '57',\n",
       " '21',\n",
       " '23',\n",
       " '29',\n",
       " '24',\n",
       " '34',\n",
       " '27',\n",
       " '27',\n",
       " '30',\n",
       " '37',\n",
       " '38',\n",
       " '30',\n",
       " '33',\n",
       " '30',\n",
       " '22',\n",
       " '36',\n",
       " '20',\n",
       " '29',\n",
       " '27',\n",
       " '39',\n",
       " '40',\n",
       " '29',\n",
       " '33',\n",
       " '30',\n",
       " '38',\n",
       " '28',\n",
       " '35',\n",
       " '37',\n",
       " '28',\n",
       " '45',\n",
       " '47',\n",
       " '30',\n",
       " '31',\n",
       " '42',\n",
       " '20',\n",
       " '42',\n",
       " '38',\n",
       " '51',\n",
       " '38',\n",
       " '58',\n",
       " '45',\n",
       " '20',\n",
       " '49',\n",
       " '26',\n",
       " '24',\n",
       " '25',\n",
       " '35',\n",
       " '34',\n",
       " '38',\n",
       " '45',\n",
       " '49',\n",
       " '42',\n",
       " '21',\n",
       " '42',\n",
       " '24',\n",
       " '53',\n",
       " '47',\n",
       " '35',\n",
       " '29',\n",
       " '31',\n",
       " '45',\n",
       " '21',\n",
       " '45',\n",
       " '44',\n",
       " '20',\n",
       " '48',\n",
       " '43',\n",
       " '54',\n",
       " '32',\n",
       " '34',\n",
       " '32',\n",
       " '25',\n",
       " '32',\n",
       " '34',\n",
       " '46',\n",
       " '37',\n",
       " '36',\n",
       " '48',\n",
       " '45',\n",
       " '22',\n",
       " '23',\n",
       " '52',\n",
       " '30',\n",
       " '29',\n",
       " '42',\n",
       " '44',\n",
       " '25',\n",
       " '22',\n",
       " '50',\n",
       " '21',\n",
       " '21',\n",
       " '49',\n",
       " '29',\n",
       " '23',\n",
       " '38',\n",
       " '41',\n",
       " '35',\n",
       " '38',\n",
       " '39',\n",
       " '37',\n",
       " '38',\n",
       " '25',\n",
       " '34',\n",
       " '54',\n",
       " '29',\n",
       " '24',\n",
       " '55',\n",
       " '41',\n",
       " '26',\n",
       " '36',\n",
       " '31',\n",
       " '57',\n",
       " '32',\n",
       " '32',\n",
       " '35',\n",
       " '26',\n",
       " '58',\n",
       " '54',\n",
       " '31',\n",
       " '27',\n",
       " '32',\n",
       " '51',\n",
       " '48',\n",
       " '40',\n",
       " '38',\n",
       " '23',\n",
       " '42',\n",
       " '43',\n",
       " '36',\n",
       " '23',\n",
       " '25',\n",
       " '20',\n",
       " '36',\n",
       " '33',\n",
       " '32',\n",
       " '28',\n",
       " '58',\n",
       " '51',\n",
       " '40',\n",
       " '34',\n",
       " '39',\n",
       " '34',\n",
       " '57',\n",
       " '56',\n",
       " '30',\n",
       " '23',\n",
       " '27',\n",
       " '43',\n",
       " '42',\n",
       " '38',\n",
       " '49',\n",
       " '53',\n",
       " '27',\n",
       " '49',\n",
       " '52',\n",
       " '50',\n",
       " '24',\n",
       " '29',\n",
       " '29',\n",
       " '23',\n",
       " '23',\n",
       " '30',\n",
       " '39',\n",
       " '51',\n",
       " '39',\n",
       " '28',\n",
       " '26',\n",
       " '22',\n",
       " '21',\n",
       " '54',\n",
       " '38',\n",
       " '46',\n",
       " '43',\n",
       " '27',\n",
       " '51',\n",
       " '39',\n",
       " '38',\n",
       " '56',\n",
       " '32',\n",
       " '26',\n",
       " '27',\n",
       " '27',\n",
       " '34',\n",
       " '28',\n",
       " '27',\n",
       " '41',\n",
       " '47',\n",
       " '37',\n",
       " '42',\n",
       " '35',\n",
       " '30',\n",
       " '32',\n",
       " '32',\n",
       " '30',\n",
       " '35',\n",
       " '35',\n",
       " '38',\n",
       " '32',\n",
       " '21',\n",
       " '34',\n",
       " '30',\n",
       " '24',\n",
       " '54',\n",
       " '40',\n",
       " '31',\n",
       " '28',\n",
       " '41',\n",
       " '33',\n",
       " '30',\n",
       " '28',\n",
       " '31',\n",
       " '34',\n",
       " '33',\n",
       " '32',\n",
       " '30',\n",
       " '23',\n",
       " '21',\n",
       " '22',\n",
       " '35',\n",
       " '41',\n",
       " '49',\n",
       " '44',\n",
       " '48',\n",
       " '33',\n",
       " '21',\n",
       " '22',\n",
       " '25',\n",
       " '22',\n",
       " '46',\n",
       " '27',\n",
       " '21',\n",
       " '56',\n",
       " '47',\n",
       " '25',\n",
       " '42',\n",
       " '22',\n",
       " '20',\n",
       " '53',\n",
       " '29',\n",
       " '34',\n",
       " '33',\n",
       " '25',\n",
       " '30',\n",
       " '20',\n",
       " '41',\n",
       " '37',\n",
       " '25',\n",
       " '24',\n",
       " '42',\n",
       " '21',\n",
       " '40',\n",
       " '20',\n",
       " '24',\n",
       " '50',\n",
       " '25',\n",
       " '23',\n",
       " '23',\n",
       " '35',\n",
       " '45',\n",
       " '22',\n",
       " '33',\n",
       " '30',\n",
       " '47',\n",
       " '39',\n",
       " '21',\n",
       " '22',\n",
       " '58',\n",
       " '38',\n",
       " '36',\n",
       " '22',\n",
       " '20',\n",
       " '43',\n",
       " '43',\n",
       " '49',\n",
       " '38',\n",
       " '40',\n",
       " '44',\n",
       " '33',\n",
       " '24',\n",
       " '26',\n",
       " '29',\n",
       " '39',\n",
       " '44',\n",
       " '37',\n",
       " '38',\n",
       " '56',\n",
       " '28',\n",
       " '25',\n",
       " '49',\n",
       " '49',\n",
       " '46',\n",
       " '48',\n",
       " '20',\n",
       " '48',\n",
       " '59',\n",
       " '44',\n",
       " '20',\n",
       " '23',\n",
       " '40',\n",
       " '21',\n",
       " '52',\n",
       " '28',\n",
       " '55',\n",
       " '35',\n",
       " '56',\n",
       " '59',\n",
       " '48',\n",
       " '26',\n",
       " '42',\n",
       " '35',\n",
       " '27',\n",
       " '34',\n",
       " '35',\n",
       " '47',\n",
       " '34',\n",
       " '55',\n",
       " '55',\n",
       " '23',\n",
       " '28',\n",
       " '60',\n",
       " '53',\n",
       " '35',\n",
       " '38',\n",
       " '39',\n",
       " '37',\n",
       " '50',\n",
       " '51',\n",
       " '22',\n",
       " '25',\n",
       " '36',\n",
       " '39',\n",
       " '37',\n",
       " '22',\n",
       " '56',\n",
       " '39',\n",
       " '34',\n",
       " '26',\n",
       " '58',\n",
       " '54',\n",
       " '44',\n",
       " '23',\n",
       " '40',\n",
       " '34',\n",
       " '26',\n",
       " '55',\n",
       " '23',\n",
       " '20',\n",
       " '52',\n",
       " '29',\n",
       " '23',\n",
       " '25',\n",
       " '43',\n",
       " '51',\n",
       " '46',\n",
       " '21',\n",
       " '22',\n",
       " '21',\n",
       " '60',\n",
       " '48',\n",
       " '36',\n",
       " '40',\n",
       " '39',\n",
       " '33',\n",
       " '28',\n",
       " '40',\n",
       " '39',\n",
       " '35',\n",
       " '33',\n",
       " '45',\n",
       " '29',\n",
       " '22',\n",
       " '29',\n",
       " '21',\n",
       " '53',\n",
       " '48',\n",
       " '44',\n",
       " '40',\n",
       " '59',\n",
       " '20',\n",
       " '33',\n",
       " '33',\n",
       " '44',\n",
       " '37',\n",
       " '53',\n",
       " '24',\n",
       " '22',\n",
       " '34',\n",
       " '58',\n",
       " '26',\n",
       " '25',\n",
       " '42',\n",
       " '38',\n",
       " '36',\n",
       " '32',\n",
       " '56',\n",
       " '32',\n",
       " '20',\n",
       " '37',\n",
       " '42',\n",
       " '35',\n",
       " '60',\n",
       " '48',\n",
       " '47',\n",
       " '32',\n",
       " '53',\n",
       " '32',\n",
       " '33',\n",
       " '24',\n",
       " '30',\n",
       " '20',\n",
       " '21',\n",
       " '22',\n",
       " '48',\n",
       " '28',\n",
       " '24',\n",
       " '20',\n",
       " '45',\n",
       " '40',\n",
       " '33',\n",
       " '37',\n",
       " '20',\n",
       " '29',\n",
       " '24',\n",
       " '53',\n",
       " '50',\n",
       " '48',\n",
       " '28',\n",
       " '49',\n",
       " '20',\n",
       " '42',\n",
       " '38',\n",
       " '29',\n",
       " '45',\n",
       " '32',\n",
       " '29',\n",
       " '56',\n",
       " '50',\n",
       " '43',\n",
       " '38',\n",
       " '49',\n",
       " '46',\n",
       " '28',\n",
       " '28',\n",
       " '31',\n",
       " '32',\n",
       " '30',\n",
       " '39',\n",
       " '23',\n",
       " '26',\n",
       " '38',\n",
       " '20',\n",
       " '31',\n",
       " '27',\n",
       " '52',\n",
       " '47',\n",
       " '26',\n",
       " '27',\n",
       " '31',\n",
       " '35',\n",
       " '29',\n",
       " '34',\n",
       " '34',\n",
       " '30',\n",
       " '29',\n",
       " '45',\n",
       " '35',\n",
       " '29',\n",
       " '28',\n",
       " '44',\n",
       " '39',\n",
       " '29',\n",
       " '30',\n",
       " '21',\n",
       " '52',\n",
       " '20',\n",
       " '20',\n",
       " '20',\n",
       " '23',\n",
       " '20',\n",
       " '35',\n",
       " '37',\n",
       " '53',\n",
       " '39',\n",
       " '53',\n",
       " '40',\n",
       " '42',\n",
       " '21',\n",
       " '41',\n",
       " '41',\n",
       " '49',\n",
       " '40',\n",
       " '38',\n",
       " '37',\n",
       " ...]"
      ]
     },
     "execution_count": 129,
     "metadata": {},
     "output_type": "execute_result"
    }
   ],
   "source": [
    "idades"
   ]
  },
  {
   "cell_type": "code",
   "execution_count": 130,
   "metadata": {},
   "outputs": [],
   "source": [
    "histograma_idades = create_text_histogram(idades)"
   ]
  },
  {
   "cell_type": "code",
   "execution_count": 131,
   "metadata": {},
   "outputs": [
    {
     "data": {
      "text/plain": [
       "dict"
      ]
     },
     "execution_count": 131,
     "metadata": {},
     "output_type": "execute_result"
    }
   ],
   "source": [
    "type(histograma_idades)"
   ]
  },
  {
   "cell_type": "code",
   "execution_count": 132,
   "metadata": {},
   "outputs": [
    {
     "data": {
      "text/plain": [
       "{'34': 1737,\n",
       " '30': 1996,\n",
       " '52': 1244,\n",
       " '58': 969,\n",
       " '35': 1672,\n",
       " '29': 1943,\n",
       " '31': 1796,\n",
       " '28': 2056,\n",
       " '51': 1260,\n",
       " '56': 1087,\n",
       " '55': 1133,\n",
       " '45': 1627,\n",
       " '37': 1712,\n",
       " '26': 2040,\n",
       " '21': 1987,\n",
       " '53': 1249,\n",
       " '33': 1812,\n",
       " '38': 1727,\n",
       " '41': 1552,\n",
       " '54': 1221,\n",
       " '27': 2017,\n",
       " '50': 1461,\n",
       " '44': 1688,\n",
       " '32': 1852,\n",
       " '40': 1732,\n",
       " '36': 1723,\n",
       " '49': 1429,\n",
       " '60': 951,\n",
       " '43': 1699,\n",
       " '46': 1566,\n",
       " '25': 2014,\n",
       " '23': 2014,\n",
       " '57': 1092,\n",
       " '47': 1446,\n",
       " '39': 1759,\n",
       " '42': 1673,\n",
       " '24': 1892,\n",
       " '59': 999,\n",
       " '48': 1505,\n",
       " '20': 2104,\n",
       " '22': 2034}"
      ]
     },
     "execution_count": 132,
     "metadata": {},
     "output_type": "execute_result"
    }
   ],
   "source": [
    "histograma_idades"
   ]
  },
  {
   "cell_type": "code",
   "execution_count": 133,
   "metadata": {},
   "outputs": [
    {
     "data": {
      "text/plain": [
       "dict_keys(['34', '30', '52', '58', '35', '29', '31', '28', '51', '56', '55', '45', '37', '26', '21', '53', '33', '38', '41', '54', '27', '50', '44', '32', '40', '36', '49', '60', '43', '46', '25', '23', '57', '47', '39', '42', '24', '59', '48', '20', '22'])"
      ]
     },
     "execution_count": 133,
     "metadata": {},
     "output_type": "execute_result"
    }
   ],
   "source": [
    "histograma_idades.keys()"
   ]
  },
  {
   "cell_type": "code",
   "execution_count": 134,
   "metadata": {},
   "outputs": [
    {
     "data": {
      "text/plain": [
       "dict_values([1737, 1996, 1244, 969, 1672, 1943, 1796, 2056, 1260, 1087, 1133, 1627, 1712, 2040, 1987, 1249, 1812, 1727, 1552, 1221, 2017, 1461, 1688, 1852, 1732, 1723, 1429, 951, 1699, 1566, 2014, 2014, 1092, 1446, 1759, 1673, 1892, 999, 1505, 2104, 2034])"
      ]
     },
     "execution_count": 134,
     "metadata": {},
     "output_type": "execute_result"
    }
   ],
   "source": [
    "histograma_idades.values()"
   ]
  },
  {
   "cell_type": "code",
   "execution_count": 135,
   "metadata": {},
   "outputs": [
    {
     "data": {
      "text/plain": [
       "dict_items([('34', 1737), ('30', 1996), ('52', 1244), ('58', 969), ('35', 1672), ('29', 1943), ('31', 1796), ('28', 2056), ('51', 1260), ('56', 1087), ('55', 1133), ('45', 1627), ('37', 1712), ('26', 2040), ('21', 1987), ('53', 1249), ('33', 1812), ('38', 1727), ('41', 1552), ('54', 1221), ('27', 2017), ('50', 1461), ('44', 1688), ('32', 1852), ('40', 1732), ('36', 1723), ('49', 1429), ('60', 951), ('43', 1699), ('46', 1566), ('25', 2014), ('23', 2014), ('57', 1092), ('47', 1446), ('39', 1759), ('42', 1673), ('24', 1892), ('59', 999), ('48', 1505), ('20', 2104), ('22', 2034)])"
      ]
     },
     "execution_count": 135,
     "metadata": {},
     "output_type": "execute_result"
    }
   ],
   "source": [
    "histograma_idades.items()"
   ]
  },
  {
   "cell_type": "code",
   "execution_count": 136,
   "metadata": {
    "scrolled": false
   },
   "outputs": [
    {
     "name": "stdout",
     "output_type": "stream",
     "text": [
      "20: 2104\n",
      "21: 1987\n",
      "22: 2034\n",
      "23: 2014\n",
      "24: 1892\n",
      "25: 2014\n",
      "26: 2040\n",
      "27: 2017\n",
      "28: 2056\n",
      "29: 1943\n",
      "30: 1996\n",
      "31: 1796\n",
      "32: 1852\n",
      "33: 1812\n",
      "34: 1737\n",
      "35: 1672\n",
      "36: 1723\n",
      "37: 1712\n",
      "38: 1727\n",
      "39: 1759\n",
      "40: 1732\n",
      "41: 1552\n",
      "42: 1673\n",
      "43: 1699\n",
      "44: 1688\n",
      "45: 1627\n",
      "46: 1566\n",
      "47: 1446\n",
      "48: 1505\n",
      "49: 1429\n",
      "50: 1461\n",
      "51: 1260\n",
      "52: 1244\n",
      "53: 1249\n",
      "54: 1221\n",
      "55: 1133\n",
      "56: 1087\n",
      "57: 1092\n",
      "58: 969\n",
      "59: 999\n",
      "60: 951\n"
     ]
    }
   ],
   "source": [
    "for key in sorted(histograma_idades.keys()):\n",
    "    print(\"%s: %s\" % (key, histograma_idades[key]))\n",
    "    #print((key, histograma_idades[key]))"
   ]
  },
  {
   "cell_type": "markdown",
   "metadata": {},
   "source": [
    "___"
   ]
  },
  {
   "cell_type": "markdown",
   "metadata": {},
   "source": [
    "### Moda\n",
    "\n",
    "\n",
    "Em estatística, moda é uma das medidas de tendência central de um conjunto de dados, assim como a média e a mediana. Ela pode ser definida em moda amostral e populacional.\n",
    "\n",
    "Em relação à primeira delas, a moda amostral de um conjunto de dados trata do valor que ocorre com maior frequência ou o valor mais comum em um conjunto de dados. Moda é especialmente útil quando os valores ou as observações não são numéricos, casos em que a média e a mediana não podem ser definidas. \n",
    "\n",
    "Moda amostral não é necessariamente única como média ou mediana. Amostras que possuem uma moda são chamadas unimodais. Por exemplo, a amostra {1, 2, 3, 5, 5, 6, 7} tem moda 5. Amostras que possuem duas modas são chamadas bimodais. Por exemplo, a amostra {1, 2, 3, 5, 5, 6, 6} tem modas 5 e 6. Amostras que possuem várias modas são chamadas multimodais. Por exemplo, a amostra {1, 2 3, 5, 5, 6, 6, 7, 7} tem modas 5, 6 e 7. Amostras que não possuem moda são chamadas amodais. Por exemplo, a amostra {1, 3, 2, 5, 7, 6} não tem moda. \n",
    "\n",
    "Por exemplo, a moda de [0,1,1,2,2,2,2,3,3,4,4,4,5] é 2.\n",
    "\n",
    "A moda não é necessariamente única. Pode ser que existam dois valores diferentes que sejam os mais frequentes. Por exemplo, no caso de [10, 13, 13, 20, 20], tanto 13 como 20 são a moda.\n",
    "\n",
    "<br>\n",
    "<img src=\"img/moda2.png\">\n",
    "<br>"
   ]
  },
  {
   "cell_type": "markdown",
   "metadata": {},
   "source": [
    "### Calculando a moda"
   ]
  },
  {
   "cell_type": "code",
   "execution_count": 137,
   "metadata": {},
   "outputs": [
    {
     "name": "stdout",
     "output_type": "stream",
     "text": [
      "[(1737, '34'), (1996, '30'), (1244, '52'), (969, '58'), (1672, '35'), (1943, '29'), (1796, '31'), (2056, '28'), (1260, '51'), (1087, '56'), (1133, '55'), (1627, '45'), (1712, '37'), (2040, '26'), (1987, '21'), (1249, '53'), (1812, '33'), (1727, '38'), (1552, '41'), (1221, '54'), (2017, '27'), (1461, '50'), (1688, '44'), (1852, '32'), (1732, '40'), (1723, '36'), (1429, '49'), (951, '60'), (1699, '43'), (1566, '46'), (2014, '25'), (2014, '23'), (1092, '57'), (1446, '47'), (1759, '39'), (1673, '42'), (1892, '24'), (999, '59'), (1505, '48'), (2104, '20'), (2034, '22')]\n",
      "O valor mais frequente para as idades é 20\n"
     ]
    }
   ],
   "source": [
    "inverse = [(value, key) for key, value in histograma_idades.items()]\n",
    "print(inverse)\n",
    "print (\"O valor mais frequente para as idades é\",max(inverse)[1])"
   ]
  },
  {
   "cell_type": "code",
   "execution_count": 138,
   "metadata": {},
   "outputs": [
    {
     "name": "stdout",
     "output_type": "stream",
     "text": [
      "O número de pessoas com 20 anos de idade é 2104\n"
     ]
    }
   ],
   "source": [
    "print (\"O número de pessoas com\",max(inverse)[1],\"anos de idade é\",max(inverse)[0])"
   ]
  },
  {
   "cell_type": "markdown",
   "metadata": {},
   "source": [
    "### Vamos criar uma função para procurar a pessoa mais velha da base"
   ]
  },
  {
   "cell_type": "code",
   "execution_count": 139,
   "metadata": {},
   "outputs": [
    {
     "name": "stdout",
     "output_type": "stream",
     "text": [
      "A pessoa mais velha na base é o id 11002710101.0, que tem 60 anos.\n"
     ]
    }
   ],
   "source": [
    "max_age = None\n",
    "oldest_person = None\n",
    "\n",
    "input_file = csv.DictReader(open('demografia.csv', 'r'))\n",
    "\n",
    "for row in input_file:\n",
    "    age = int(row[\"idade\"])\n",
    "    if max_age == None or max_age < age:\n",
    "        max_age = age\n",
    "        oldest_person = row[\"id\"]\n",
    "\n",
    "if max_age != None:\n",
    "    print(\"A pessoa mais velha na base é o id %s, que tem %d anos.\" % (oldest_person, max_age))\n",
    "else:\n",
    "    print(\"Não tem ninguém nesse arquivo\")"
   ]
  },
  {
   "cell_type": "markdown",
   "metadata": {},
   "source": [
    "### Como criar uma função para procurar a pessoa mais nova da base?"
   ]
  },
  {
   "cell_type": "code",
   "execution_count": null,
   "metadata": {},
   "outputs": [],
   "source": []
  },
  {
   "cell_type": "markdown",
   "metadata": {},
   "source": [
    "Dê dois cliques para ver a resposta:\n",
    "<!--\n",
    "min_age = None\n",
    "oldest_person = None\n",
    "\n",
    "input_file = csv.DictReader(open(r'data/data.csv', 'r'))\n",
    "\n",
    "for row in input_file:\n",
    "    age = int(row[\"idade\"])\n",
    "    if min_age == None or min_age > age:\n",
    "        min_age = age\n",
    "        youngest_person = row[\"id\"]\n",
    "\n",
    "if min_age != None:\n",
    "    print(\"A pessoa mais nova na base é o id %s, que tem %d anos.\" % (youngest_person, min_age))\n",
    "else:\n",
    "    print(\"Não tem ninguém nesse arquivo\")\n",
    "-->"
   ]
  },
  {
   "cell_type": "markdown",
   "metadata": {},
   "source": [
    "___"
   ]
  },
  {
   "cell_type": "code",
   "execution_count": null,
   "metadata": {},
   "outputs": [],
   "source": []
  }
 ],
 "metadata": {
  "hide_input": false,
  "kernelspec": {
   "display_name": "Python 3",
   "language": "python",
   "name": "python3"
  },
  "language_info": {
   "codemirror_mode": {
    "name": "ipython",
    "version": 3
   },
   "file_extension": ".py",
   "mimetype": "text/x-python",
   "name": "python",
   "nbconvert_exporter": "python",
   "pygments_lexer": "ipython3",
   "version": "3.7.4"
  },
  "toc": {
   "base_numbering": 1,
   "nav_menu": {
    "height": "417px",
    "width": "637px"
   },
   "number_sections": true,
   "sideBar": true,
   "skip_h1_title": true,
   "title_cell": "Table of Contents",
   "title_sidebar": "Contents",
   "toc_cell": true,
   "toc_position": {
    "height": "calc(100% - 180px)",
    "left": "10px",
    "top": "150px",
    "width": "296.758px"
   },
   "toc_section_display": true,
   "toc_window_display": true
  },
  "widgets": {
   "application/vnd.jupyter.widget-state+json": {
    "state": {},
    "version_major": 2,
    "version_minor": 0
   }
  }
 },
 "nbformat": 4,
 "nbformat_minor": 2
}
