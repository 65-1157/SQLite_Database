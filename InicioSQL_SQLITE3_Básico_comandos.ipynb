{
 "cells": [
  {
   "cell_type": "markdown",
   "metadata": {},
   "source": [
    "Notebook 01 - Conectando SQLITE e criando um Banco de Dados -- 13JAN2020\n",
    "SQlite\n",
    "#https://www.sqlite.org/www.sqlite.org"
   ]
  },
  {
   "cell_type": "code",
   "execution_count": 1,
   "metadata": {},
   "outputs": [],
   "source": [
    "#!pip install sqlite\n",
    "import sqlite3\n",
    "# Comandos abaixo referem-se a alteração de dados\n",
    "# importação de biblioteca sqlite 3, conjunto de comandos pré-definidos"
   ]
  },
  {
   "cell_type": "markdown",
   "metadata": {},
   "source": [
    "01- Conecta e Cria o banco de dados "
   ]
  },
  {
   "cell_type": "code",
   "execution_count": 2,
   "metadata": {},
   "outputs": [],
   "source": [
    "conn = sqlite3.connect('iniciosql.db')\n",
    "conn.close()\n",
    "# extensão 'db' means banco de dados. sql = structure query language"
   ]
  },
  {
   "cell_type": "code",
   "execution_count": 3,
   "metadata": {},
   "outputs": [],
   "source": [
    "# 02- Cria a tabela clientes1 no banco de dados \n",
    "# cursor: é um interador que permite navegar e manipular os registros do bd.\n",
    "# execute: lê e executa comandos SQL puro diretamente no bd."
   ]
  },
  {
   "cell_type": "code",
   "execution_count": 4,
   "metadata": {},
   "outputs": [
    {
     "name": "stdout",
     "output_type": "stream",
     "text": [
      "Tabela clientes criada com sucesso.\n"
     ]
    }
   ],
   "source": [
    "import sqlite3\n",
    "# biblioteca de comandos sql light ou sql lite, versão = 3\n",
    "# conectando...\n",
    "conn = sqlite3.connect('iniciosql.db')\n",
    "# definindo um cursor\n",
    "cursor = conn.cursor()\n",
    "\n",
    "# criando a tabela (schema = \n",
    "# esquema ou formato de tabela ou arquivo a ser manipulado)\n",
    "cursor.execute(\"\"\"\n",
    "CREATE TABLE clientes (\n",
    "        id INTEGER NOT NULL PRIMARY KEY AUTOINCREMENT,\n",
    "        nome TEXT NOT NULL,\n",
    "        idade INTEGER,\n",
    "        cpf     VARCHAR(11) NOT NULL,\n",
    "        email TEXT NOT NULL,\n",
    "        fone TEXT,\n",
    "        cidade TEXT,\n",
    "        uf VARCHAR(2) NOT NULL,\n",
    "        criado_em DATE NOT NULL\n",
    ");\n",
    "\"\"\")\n",
    "# definição das variáveis, nos seus tipos. Var = variável. \n",
    "# Char = caractere. Autoincrement = incremento automático\n",
    "print('Tabela clientes criada com sucesso.')\n",
    "# desconectando...fechando a conexão\n",
    "# cor vermelha = função em criação ou ação a ser feita, com os detalhes\n",
    "conn.close()"
   ]
  },
  {
   "cell_type": "markdown",
   "metadata": {},
   "source": [
    "03 - Inserindo um registro com comando SQL.  \n",
    "A única novidade aqui é o método commit(). É ele que grava de fato as alterações na tabela. \n",
    "Lembrando que uma tabela é alterada com as instruções SQL ``INSERT, UPDATE`` e ``DELETE``."
   ]
  },
  {
   "cell_type": "code",
   "execution_count": 5,
   "metadata": {},
   "outputs": [
    {
     "name": "stdout",
     "output_type": "stream",
     "text": [
      "Dados inseridos com sucesso.\n"
     ]
    }
   ],
   "source": [
    "# 03_Inserindo dados na tabela clientes\n",
    "import sqlite3\n",
    "# sempre use as três aspas \"\"\", como notação padrão da linguagem\n",
    "\n",
    "conn = sqlite3.connect('iniciosql.db')\n",
    "cursor = conn.cursor()\n",
    "\n",
    "cursor.execute(\"\"\"\n",
    "INSERT INTO clientes (nome, idade, cpf, email, fone, cidade, uf, criado_em)\n",
    "VALUES ('Regis', 35, '00000000000', 'regis@email.com', '11-98765-4321', 'Sao Paulo', 'SP', '2014-06-08')\n",
    "\"\"\")\n",
    "\n",
    "cursor.execute(\"\"\"\n",
    "INSERT INTO clientes (nome, idade, cpf, email, fone, cidade, uf, criado_em)\n",
    "VALUES ('Aloisio', 87, '11111111111', 'aloisio@email.com', '98765-4322', 'Porto Alegre', 'RS', '2014-06-09')\n",
    "\"\"\")\n",
    "\n",
    "cursor.execute(\"\"\"\n",
    "INSERT INTO clientes (nome, idade, cpf, email, fone, cidade, uf, criado_em)\n",
    "VALUES ('Bruna', 21, '22222222222', 'bruna@email.com', '21-98765-4323', 'Rio de Janeiro', 'RJ', '2014-06-09')\n",
    "\"\"\")\n",
    "\n",
    "cursor.execute(\"\"\"\n",
    "INSERT INTO clientes (nome, idade, cpf, email, fone, cidade, uf, criado_em)\n",
    "VALUES ('Matheus', 19, '33333333333', 'matheus@email.com', '11-98765-4324', 'Campinas', 'SP', '2014-06-08')\n",
    "\"\"\")\n",
    "\n",
    "# gravando no bd\n",
    "conn.commit()\n",
    "print('Dados inseridos com sucesso.')\n",
    "conn.close()"
   ]
  },
  {
   "cell_type": "markdown",
   "metadata": {},
   "source": [
    "04- Inserindo n registros com uma tupla de dados.\n",
    "Usando uma lista podemos inserir vários registros de uma vez, e o método executemany faz essa ação."
   ]
  },
  {
   "cell_type": "markdown",
   "metadata": {},
   "source": [
    "Observe o uso de ? isto significa que no lugar de cada ? entrarão os valores da lista na sua posição respectiva. É o que nós chamamos de parâmetros de entrada. 'Tupla' = estrutura de dados em Python, próxima do que é uma lista."
   ]
  },
  {
   "cell_type": "code",
   "execution_count": 6,
   "metadata": {},
   "outputs": [
    {
     "name": "stdout",
     "output_type": "stream",
     "text": [
      "Dados inseridos com sucesso.\n"
     ]
    }
   ],
   "source": [
    "# 04 Inserindo dados através de uma lista\n",
    "# import sqlite3\n",
    "# outra forma de inserir dados no banco de dados, \n",
    "# depois de criar as tabelas e suas estruturas\n",
    "conn = sqlite3.connect('iniciosql.db')\n",
    "cursor = conn.cursor()\n",
    "# criando uma lista de dados\n",
    "lista = [(\n",
    "    'Fabio', 23, '44444444444', 'fabio@email.com', '1234-5678', 'Belo Horizonte', 'MG', '2014-06-09'),\n",
    "    ('Joao', 21, '55555555555', 'joao@email.com',\n",
    "     '11-1234-5600', 'Sao Paulo', 'SP', '2014-06-09'),\n",
    "    ('Xavier', 24, '66666666666', 'xavier@email.com', '12-1234-5601', 'Campinas', 'SP', '2014-06-10')]\n",
    "# inserindo dados na tabela\n",
    "cursor.executemany(\"\"\"\n",
    "INSERT INTO clientes (nome, idade, cpf, email, fone, cidade, uf, criado_em)\n",
    "VALUES (?,?,?,?,?,?,?,?)\n",
    "\"\"\", lista)\n",
    "conn.commit()\n",
    "print('Dados inseridos com sucesso.')\n",
    "conn.close()"
   ]
  },
  {
   "cell_type": "markdown",
   "metadata": {},
   "source": [
    "05- Lendo os dados.\n",
    "Aqui nós usamos SELECT. \n",
    "O método fetchall() retorna o resultado do SELECT."
   ]
  },
  {
   "cell_type": "code",
   "execution_count": 7,
   "metadata": {},
   "outputs": [
    {
     "name": "stdout",
     "output_type": "stream",
     "text": [
      "(1, 'Regis', 35, '00000000000', 'regis@email.com', '11-98765-4321', 'Sao Paulo', 'SP', '2014-06-08')\n",
      "(2, 'Aloisio', 87, '11111111111', 'aloisio@email.com', '98765-4322', 'Porto Alegre', 'RS', '2014-06-09')\n",
      "(3, 'Bruna', 21, '22222222222', 'bruna@email.com', '21-98765-4323', 'Rio de Janeiro', 'RJ', '2014-06-09')\n",
      "(4, 'Matheus', 19, '33333333333', 'matheus@email.com', '11-98765-4324', 'Campinas', 'SP', '2014-06-08')\n",
      "(5, 'Fabio', 23, '44444444444', 'fabio@email.com', '1234-5678', 'Belo Horizonte', 'MG', '2014-06-09')\n",
      "(6, 'Joao', 21, '55555555555', 'joao@email.com', '11-1234-5600', 'Sao Paulo', 'SP', '2014-06-09')\n",
      "(7, 'Xavier', 24, '66666666666', 'xavier@email.com', '12-1234-5601', 'Campinas', 'SP', '2014-06-10')\n"
     ]
    }
   ],
   "source": [
    "# 05 Lendo os dados da tabele cliente\n",
    "#import sqlite3\n",
    "conn = sqlite3.connect('iniciosql.db')\n",
    "cursor = conn.cursor()\n",
    "# lendo os dados\n",
    "cursor.execute(\"\"\"\n",
    "SELECT * FROM clientes;\n",
    "\"\"\")\n",
    "for linha in cursor.fetchall():\n",
    "    print(linha)\n",
    "conn.close()"
   ]
  },
  {
   "cell_type": "markdown",
   "metadata": {},
   "source": [
    "06 - Inserindo um registro com parâmetros de entrada definido pelo usuário.\n",
    "Neste exemplo, usaremos parâmetros de entrada, que deverão ser digitados pelo usuário. \n",
    "Esta é a forma mais desejável de entrada de dados porque o usuário pode digitar os dados em tempo de execução."
   ]
  },
  {
   "cell_type": "code",
   "execution_count": 8,
   "metadata": {},
   "outputs": [
    {
     "name": "stdout",
     "output_type": "stream",
     "text": [
      "Nome: Luis\n",
      "Idade: 34\n",
      "CPF: 3333333333\n",
      "Email: luis@joint\n",
      "Fone: 3333\n",
      "Cidade: matchupichu\n",
      "UF: 34\n",
      "Criado em (yyyy-mm-dd): 2020-01-02\n",
      "Dados inseridos com sucesso.\n"
     ]
    }
   ],
   "source": [
    "#import sqlite3\n",
    "conn = sqlite3.connect('iniciosql.db')\n",
    "cursor = conn.cursor()\n",
    "# solicitando os dados ao usuário\n",
    "# p = parâmetro\n",
    "p_nome = input('Nome: ')\n",
    "p_idade = input('Idade: ')\n",
    "p_cpf = input('CPF: ')\n",
    "p_email = input('Email: ')\n",
    "p_fone = input('Fone: ')\n",
    "p_cidade = input('Cidade: ')\n",
    "p_uf = input('UF: ')\n",
    "p_criado_em = input('Criado em (yyyy-mm-dd): ')\n",
    "# inserindo dados na tabela\n",
    "cursor.execute(\"\"\"\n",
    "INSERT INTO clientes (nome, idade, cpf, email, fone, cidade, uf, criado_em)\n",
    "VALUES (?,?,?,?,?,?,?,?)\n",
    "\"\"\", (p_nome, p_idade, p_cpf, p_email, p_fone, p_cidade, p_uf, p_criado_em))\n",
    "\n",
    "conn.commit()\n",
    "# usar comandos \"delete\" ou \"update\" para se alterar algum dado que estiver digitado errado...\n",
    "\n",
    "print('Dados inseridos com sucesso.')\n",
    "\n",
    "conn.close()"
   ]
  },
  {
   "cell_type": "code",
   "execution_count": null,
   "metadata": {},
   "outputs": [],
   "source": [
    "conn = sqlite3.connect('iniciosql.db')\n",
    "cursor = conn.cursor()\n",
    "\n",
    "# lendo os dados\n",
    "cursor.execute(\"\"\"\n",
    "SELECT * FROM clientes;\n",
    "\"\"\")\n",
    "for linha in cursor.fetchall():\n",
    "    print(linha)\n",
    "conn.close()"
   ]
  },
  {
   "cell_type": "markdown",
   "metadata": {},
   "source": [
    "07 - Update - Alterando os dados.\n",
    "Observe o uso das variáveis id_cliente onde definimos o id a ser alterado, novo_fone e \n",
    "novo_criado_em usados como parâmetro para alterar os dados.\n",
    "Neste caso, salvamos as alterações com o método commit()."
   ]
  },
  {
   "cell_type": "code",
   "execution_count": 9,
   "metadata": {},
   "outputs": [
    {
     "name": "stdout",
     "output_type": "stream",
     "text": [
      "Dados atualizados com sucesso.\n"
     ]
    }
   ],
   "source": [
    "# Comando update -- alteração de um determinado registro para um campo específico.\n",
    "# 07_update_data.py\n",
    "#import sqlite3\n",
    "\n",
    "conn = sqlite3.connect('iniciosql.db')\n",
    "cursor = conn.cursor()\n",
    "\n",
    "id_cliente = 1\n",
    "novo_fone = '11-1000-2014'\n",
    "novo_criado_em = '2014-06-11'\n",
    "\n",
    "# alterando os dados da tabela\n",
    "cursor.execute(\"\"\"\n",
    "UPDATE clientes\n",
    "SET fone = ?, criado_em = ?\n",
    "WHERE id = ?\n",
    "\"\"\", (novo_fone, novo_criado_em, id_cliente))\n",
    "\n",
    "conn.commit()\n",
    "print('Dados atualizados com sucesso.')\n",
    "conn.close()"
   ]
  },
  {
   "cell_type": "code",
   "execution_count": 10,
   "metadata": {},
   "outputs": [
    {
     "name": "stdout",
     "output_type": "stream",
     "text": [
      "(1, 'Regis', 35, '00000000000', 'regis@email.com', '11-1000-2014', 'Sao Paulo', 'SP', '2014-06-11')\n",
      "(2, 'Aloisio', 87, '11111111111', 'aloisio@email.com', '98765-4322', 'Porto Alegre', 'RS', '2014-06-09')\n",
      "(3, 'Bruna', 21, '22222222222', 'bruna@email.com', '21-98765-4323', 'Rio de Janeiro', 'RJ', '2014-06-09')\n",
      "(4, 'Matheus', 19, '33333333333', 'matheus@email.com', '11-98765-4324', 'Campinas', 'SP', '2014-06-08')\n",
      "(5, 'Fabio', 23, '44444444444', 'fabio@email.com', '1234-5678', 'Belo Horizonte', 'MG', '2014-06-09')\n",
      "(6, 'Joao', 21, '55555555555', 'joao@email.com', '11-1234-5600', 'Sao Paulo', 'SP', '2014-06-09')\n",
      "(7, 'Xavier', 24, '66666666666', 'xavier@email.com', '12-1234-5601', 'Campinas', 'SP', '2014-06-10')\n",
      "(8, 'Luis', 34, '3333333333', 'luis@joint', '3333', 'matchupichu', '34', '2020-01-02')\n"
     ]
    }
   ],
   "source": [
    "conn = sqlite3.connect('iniciosql.db')\n",
    "cursor = conn.cursor()\n",
    "# lendo os dados\n",
    "cursor.execute(\"\"\"\n",
    "SELECT * FROM clientes;\n",
    "\"\"\")\n",
    "for linha in cursor.fetchall():\n",
    "    print(linha)\n",
    "conn.close()"
   ]
  },
  {
   "cell_type": "markdown",
   "metadata": {},
   "source": [
    "08 - Delete - Deletando os dados. \n",
    "     Vamos excluir um registro pelo seu id."
   ]
  },
  {
   "cell_type": "code",
   "execution_count": 11,
   "metadata": {},
   "outputs": [
    {
     "name": "stdout",
     "output_type": "stream",
     "text": [
      "Registro excluido com sucesso.\n"
     ]
    }
   ],
   "source": [
    "conn = sqlite3.connect('iniciosql.db')\n",
    "cursor = conn.cursor()\n",
    "id_cliente = 1\n",
    "# excluindo um registro da tabela\n",
    "cursor.execute(\"\"\"\n",
    "DELETE FROM clientes\n",
    "WHERE id = ?\n",
    "\"\"\", (id_cliente,))\n",
    "conn.commit()\n",
    "print('Registro excluido com sucesso.')\n",
    "\n",
    "conn.close()"
   ]
  },
  {
   "cell_type": "code",
   "execution_count": 12,
   "metadata": {},
   "outputs": [
    {
     "name": "stdout",
     "output_type": "stream",
     "text": [
      "(2, 'Aloisio', 87, '11111111111', 'aloisio@email.com', '98765-4322', 'Porto Alegre', 'RS', '2014-06-09')\n",
      "(3, 'Bruna', 21, '22222222222', 'bruna@email.com', '21-98765-4323', 'Rio de Janeiro', 'RJ', '2014-06-09')\n",
      "(4, 'Matheus', 19, '33333333333', 'matheus@email.com', '11-98765-4324', 'Campinas', 'SP', '2014-06-08')\n",
      "(5, 'Fabio', 23, '44444444444', 'fabio@email.com', '1234-5678', 'Belo Horizonte', 'MG', '2014-06-09')\n",
      "(6, 'Joao', 21, '55555555555', 'joao@email.com', '11-1234-5600', 'Sao Paulo', 'SP', '2014-06-09')\n",
      "(7, 'Xavier', 24, '66666666666', 'xavier@email.com', '12-1234-5601', 'Campinas', 'SP', '2014-06-10')\n",
      "(8, 'Luis', 34, '3333333333', 'luis@joint', '3333', 'matchupichu', '34', '2020-01-02')\n"
     ]
    }
   ],
   "source": [
    "conn = sqlite3.connect('iniciosql.db')\n",
    "cursor = conn.cursor()\n",
    "# lendo os dados\n",
    "cursor.execute(\"\"\"\n",
    "SELECT * FROM clientes;\n",
    "\"\"\")\n",
    "for linha in cursor.fetchall():\n",
    "    print(linha)\n",
    "conn.close()"
   ]
  },
  {
   "cell_type": "markdown",
   "metadata": {},
   "source": [
    "09-  Adicionando uma nova coluna - ALTER TABLE "
   ]
  },
  {
   "cell_type": "code",
   "execution_count": 13,
   "metadata": {},
   "outputs": [
    {
     "name": "stdout",
     "output_type": "stream",
     "text": [
      "Novo campo adicionado com sucesso.\n"
     ]
    }
   ],
   "source": [
    "conn = sqlite3.connect('iniciosql.db')\n",
    "cursor = conn.cursor()\n",
    "# adicionando uma nova coluna na tabela clientes\n",
    "cursor.execute(\"\"\"\n",
    "ALTER TABLE clientes\n",
    "ADD COLUMN bloqueado BOOLEAN;\n",
    "\"\"\")\n",
    "conn.commit()\n",
    "print('Novo campo adicionado com sucesso.')\n",
    "conn.close()"
   ]
  },
  {
   "cell_type": "code",
   "execution_count": 14,
   "metadata": {},
   "outputs": [
    {
     "name": "stdout",
     "output_type": "stream",
     "text": [
      "(2, 'Aloisio', 87, '11111111111', 'aloisio@email.com', '98765-4322', 'Porto Alegre', 'RS', '2014-06-09', None)\n",
      "(3, 'Bruna', 21, '22222222222', 'bruna@email.com', '21-98765-4323', 'Rio de Janeiro', 'RJ', '2014-06-09', None)\n",
      "(4, 'Matheus', 19, '33333333333', 'matheus@email.com', '11-98765-4324', 'Campinas', 'SP', '2014-06-08', None)\n",
      "(5, 'Fabio', 23, '44444444444', 'fabio@email.com', '1234-5678', 'Belo Horizonte', 'MG', '2014-06-09', None)\n",
      "(6, 'Joao', 21, '55555555555', 'joao@email.com', '11-1234-5600', 'Sao Paulo', 'SP', '2014-06-09', None)\n",
      "(7, 'Xavier', 24, '66666666666', 'xavier@email.com', '12-1234-5601', 'Campinas', 'SP', '2014-06-10', None)\n",
      "(8, 'Luis', 34, '3333333333', 'luis@joint', '3333', 'matchupichu', '34', '2020-01-02', None)\n"
     ]
    }
   ],
   "source": [
    "conn = sqlite3.connect('iniciosql.db')\n",
    "cursor = conn.cursor()\n",
    "# lendo os dados\n",
    "cursor.execute(\"\"\"\n",
    "SELECT * FROM clientes;\n",
    "\"\"\")\n",
    "for linha in cursor.fetchall():\n",
    "    print(linha)\n",
    "conn.close()\n",
    "# para ter uma determinada ordem, usar o SELECT com a sequencia das colunas que se quer"
   ]
  },
  {
   "cell_type": "markdown",
   "metadata": {},
   "source": [
    "10 -  Fazendo backup do banco de dados"
   ]
  },
  {
   "cell_type": "markdown",
   "metadata": {},
   "source": [
    "Biblioteca io que salva os dados num arquivo externo. Salva o script do sql da tabela atual.  \n",
    "Através do método write, e o método iterdump() que exporta a estrutura e dados da tabela para o arquivo externo."
   ]
  },
  {
   "cell_type": "code",
   "execution_count": 15,
   "metadata": {},
   "outputs": [
    {
     "name": "stdout",
     "output_type": "stream",
     "text": [
      "Backup realizado com sucesso.\n",
      "Salvo como clientes_dump.sql\n"
     ]
    }
   ],
   "source": [
    "import io\n",
    "conn = sqlite3.connect('iniciosql.db')\n",
    "with io.open('clientes_dump.sql', 'w') as f:\n",
    "    for linha in conn.iterdump():\n",
    "        f.write('%s\\n' % linha)\n",
    "print('Backup realizado com sucesso.')\n",
    "print('Salvo como clientes_dump.sql')\n",
    "conn.close()"
   ]
  },
  {
   "cell_type": "markdown",
   "metadata": {},
   "source": [
    "11- Recuperando o banco de dados (importando dados)"
   ]
  },
  {
   "cell_type": "raw",
   "metadata": {},
   "source": [
    "# Criaremos um novo banco de dados e iremos reconstruir a tabela e \n",
    "os dados com o arquivo clientes_dump.sql. \n",
    "# O método read() lê o conteúdo do arquivo clientes_dump.sql e o método \n",
    "executescript() executa as instruções SQL escritas\n",
    "# neste arquivo."
   ]
  },
  {
   "cell_type": "code",
   "execution_count": 16,
   "metadata": {},
   "outputs": [
    {
     "name": "stdout",
     "output_type": "stream",
     "text": [
      "Banco de dados recuperado com sucesso.\n",
      "Salvo como clientes_recuperado.db\n"
     ]
    }
   ],
   "source": [
    "conn = sqlite3.connect('clientes_recuperado.db')\n",
    "cursor = conn.cursor()\n",
    "# novo banco de dados = clientes_recuperado\n",
    "f = io.open('clientes_dump.sql', 'r')\n",
    "sql = f.read()\n",
    "cursor.executescript(sql)\n",
    "print('Banco de dados recuperado com sucesso.')\n",
    "print('Salvo como clientes_recuperado.db')\n",
    "conn.close()"
   ]
  },
  {
   "cell_type": "code",
   "execution_count": 17,
   "metadata": {},
   "outputs": [
    {
     "name": "stdout",
     "output_type": "stream",
     "text": [
      "(2, 'Aloisio', 87, '11111111111', 'aloisio@email.com', '98765-4322', 'Porto Alegre', 'RS', '2014-06-09', None)\n",
      "(3, 'Bruna', 21, '22222222222', 'bruna@email.com', '21-98765-4323', 'Rio de Janeiro', 'RJ', '2014-06-09', None)\n",
      "(4, 'Matheus', 19, '33333333333', 'matheus@email.com', '11-98765-4324', 'Campinas', 'SP', '2014-06-08', None)\n",
      "(5, 'Fabio', 23, '44444444444', 'fabio@email.com', '1234-5678', 'Belo Horizonte', 'MG', '2014-06-09', None)\n",
      "(6, 'Joao', 21, '55555555555', 'joao@email.com', '11-1234-5600', 'Sao Paulo', 'SP', '2014-06-09', None)\n",
      "(7, 'Xavier', 24, '66666666666', 'xavier@email.com', '12-1234-5601', 'Campinas', 'SP', '2014-06-10', None)\n",
      "(8, 'Luis', 34, '3333333333', 'luis@joint', '3333', 'matchupichu', '34', '2020-01-02', None)\n"
     ]
    }
   ],
   "source": [
    "conn = sqlite3.connect('clientes_recuperado.db')\n",
    "cursor = conn.cursor()\n",
    "# lendo os dados\n",
    "cursor.execute(\"\"\"\n",
    "SELECT * FROM clientes;\n",
    "\"\"\")\n",
    "for linha in cursor.fetchall():\n",
    "    print(linha)\n",
    "conn.close()"
   ]
  },
  {
   "cell_type": "code",
   "execution_count": null,
   "metadata": {},
   "outputs": [],
   "source": [
    "## Deletando as tabelas criadas\n",
    "# retirar uma determinada coluna, aqui no caso \"clientes\"\n",
    "conn = sqlite3.connect('iniciosql.db')\n",
    "cursor = conn.cursor()\n",
    "cursor.execute(\"\"\"\n",
    "DROP TABLE clientes\n",
    "\"\"\")\n",
    "conn.close()\n",
    "conn = sqlite3.connect('clientes_recuperado.db')\n",
    "cursor = conn.cursor()\n",
    "cursor.execute(\"\"\"\n",
    "DROP TABLE clientes\n",
    "\"\"\")\n",
    "conn.close()"
   ]
  },
  {
   "cell_type": "markdown",
   "metadata": {},
   "source": [
    "Fim"
   ]
  }
 ],
 "metadata": {
  "kernelspec": {
   "display_name": "Python 3 (ipykernel)",
   "language": "python",
   "name": "python3"
  },
  "language_info": {
   "codemirror_mode": {
    "name": "ipython",
    "version": 3
   },
   "file_extension": ".py",
   "mimetype": "text/x-python",
   "name": "python",
   "nbconvert_exporter": "python",
   "pygments_lexer": "ipython3",
   "version": "3.11.7"
  }
 },
 "nbformat": 4,
 "nbformat_minor": 4
}
